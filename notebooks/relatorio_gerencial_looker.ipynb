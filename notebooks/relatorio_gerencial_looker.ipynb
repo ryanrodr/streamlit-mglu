{
 "cells": [
  {
   "cell_type": "markdown",
   "metadata": {},
   "source": [
    "#### Conectando Python com API do Google Sheets"
   ]
  },
  {
   "cell_type": "code",
   "execution_count": 22,
   "metadata": {},
   "outputs": [],
   "source": [
    "import pandas as pd\n",
    "import gspread\n",
    "import json\n",
    "import os\n",
    "import warnings\n",
    "from dotenv import load_dotenv\n",
    "\n",
    "warnings.filterwarnings(\"ignore\")\n",
    "\n",
    "# Carrega as variáveis de ambiente do arquivo .env\n",
    "load_dotenv()\n",
    "key_json = os.getenv('KEY_JSON')\n",
    "\n",
    "# Converte a string JSON em um dicionário Python\n",
    "google_client = gspread.service_account_from_dict(json.loads(key_json))\n",
    "\n",
    "# Identificador único da planilha do Google Sheets\n",
    "SHEET_ID = '1tbJh_GQol0Ax5uB-AjwI26yW9piCIp0peuKV1N5nMeQ'\n",
    "\n",
    "# Abre a planilha do Google Sheets usando o código único da planilha\n",
    "spreadsheet = google_client.open_by_key(SHEET_ID)\n",
    "\n",
    "# Seleciona a aba chamada 'Dados' dentro da planilha\n",
    "worksheet = spreadsheet.worksheet('Dados')\n",
    "\n",
    "# Obtém todos os valores da worksheet (retorna uma lista de listas)\n",
    "dados = worksheet.get_all_values()\n",
    "\n",
    "# A primeira linha é usada como o cabeçalho (nomes das colunas)\n",
    "df = pd.DataFrame(dados[1:], columns=dados[0])"
   ]
  },
  {
   "cell_type": "markdown",
   "metadata": {},
   "source": [
    "#### Limpeza e Preparação dos dados"
   ]
  },
  {
   "cell_type": "code",
   "execution_count": 23,
   "metadata": {},
   "outputs": [],
   "source": [
    "# Padronizando o nome das colunas\n",
    "df.rename(columns=str.lower, inplace=True)\n",
    "\n",
    "# Alterando o tipo de dado do DataFrame\n",
    "colunas = ['tempo_espera', 'tempo_expedicao', 'tempo_total']\n",
    "df[colunas] = df[colunas].apply(pd.to_timedelta)\n",
    "df['qtd_remessas'] = df['qtd_remessas'].astype('int')"
   ]
  },
  {
   "cell_type": "code",
   "execution_count": 27,
   "metadata": {},
   "outputs": [
    {
     "data": {
      "text/html": [
       "<div>\n",
       "<style scoped>\n",
       "    .dataframe tbody tr th:only-of-type {\n",
       "        vertical-align: middle;\n",
       "    }\n",
       "\n",
       "    .dataframe tbody tr th {\n",
       "        vertical-align: top;\n",
       "    }\n",
       "\n",
       "    .dataframe thead th {\n",
       "        text-align: right;\n",
       "    }\n",
       "</style>\n",
       "<table border=\"1\" class=\"dataframe\">\n",
       "  <thead>\n",
       "    <tr style=\"text-align: right;\">\n",
       "      <th></th>\n",
       "      <th>data</th>\n",
       "      <th>unidade</th>\n",
       "      <th>media_tempo_espera</th>\n",
       "      <th>media_tempo_expedicao</th>\n",
       "      <th>media_tempo_total</th>\n",
       "      <th>total_remessas</th>\n",
       "    </tr>\n",
       "  </thead>\n",
       "  <tbody>\n",
       "    <tr>\n",
       "      <th>0</th>\n",
       "      <td>15/10/2024</td>\n",
       "      <td>HVGI - VILA GUILHERME</td>\n",
       "      <td>00:56:54</td>\n",
       "      <td>00:27:35</td>\n",
       "      <td>01:24:29</td>\n",
       "      <td>346</td>\n",
       "    </tr>\n",
       "    <tr>\n",
       "      <th>1</th>\n",
       "      <td>16/10/2024</td>\n",
       "      <td>HVGI - VILA GUILHERME</td>\n",
       "      <td>00:29:43</td>\n",
       "      <td>00:16:24</td>\n",
       "      <td>00:46:07</td>\n",
       "      <td>152</td>\n",
       "    </tr>\n",
       "    <tr>\n",
       "      <th>2</th>\n",
       "      <td>18/10/2024</td>\n",
       "      <td>HVGI - VILA GUILHERME</td>\n",
       "      <td>01:52:03</td>\n",
       "      <td>00:48:34</td>\n",
       "      <td>02:40:38</td>\n",
       "      <td>4277</td>\n",
       "    </tr>\n",
       "  </tbody>\n",
       "</table>\n",
       "</div>"
      ],
      "text/plain": [
       "         data                unidade media_tempo_espera media_tempo_expedicao  \\\n",
       "0  15/10/2024  HVGI - VILA GUILHERME           00:56:54              00:27:35   \n",
       "1  16/10/2024  HVGI - VILA GUILHERME           00:29:43              00:16:24   \n",
       "2  18/10/2024  HVGI - VILA GUILHERME           01:52:03              00:48:34   \n",
       "\n",
       "  media_tempo_total  total_remessas  \n",
       "0          01:24:29             346  \n",
       "1          00:46:07             152  \n",
       "2          02:40:38            4277  "
      ]
     },
     "execution_count": 27,
     "metadata": {},
     "output_type": "execute_result"
    }
   ],
   "source": [
    " # Tempo Médio de Expedição por Data\n",
    "tempo_medio_dia = df.groupby(['data', 'unidade']).agg(\n",
    "                    media_tempo_espera = pd.NamedAgg('tempo_espera', 'mean'),\n",
    "                    media_tempo_expedicao = pd.NamedAgg('tempo_expedicao', 'mean'),\n",
    "                    media_tempo_total = pd.NamedAgg('tempo_total', 'mean'),\n",
    "                    total_remessas = pd.NamedAgg('qtd_remessas', 'sum')).reset_index()\n",
    "\n",
    "def format_timedelta(td):\n",
    "    # Formata como HH:MM:SS\n",
    "    total_seconds = int(td.total_seconds())\n",
    "    hours, remainder = divmod(total_seconds, 3600)\n",
    "    minutes, seconds = divmod(remainder, 60)\n",
    "    return f\"{hours:02}:{minutes:02}:{seconds:02}\"\n",
    "\n",
    "# Aplicar a formatação das médias\n",
    "tempo_medio_dia[['media_tempo_espera',\n",
    "                 'media_tempo_expedicao',\n",
    "                 'media_tempo_total']] = tempo_medio_dia[['media_tempo_espera',\n",
    "                                                         'media_tempo_expedicao',\n",
    "                                                         'media_tempo_total']].applymap(format_timedelta)\n",
    "\n",
    "tempo_medio_dia"
   ]
  },
  {
   "cell_type": "code",
   "execution_count": 28,
   "metadata": {},
   "outputs": [],
   "source": [
    "tempo_medio_dia.to_clipboard(index=False)"
   ]
  },
  {
   "cell_type": "code",
   "execution_count": null,
   "metadata": {},
   "outputs": [],
   "source": []
  },
  {
   "cell_type": "code",
   "execution_count": null,
   "metadata": {},
   "outputs": [],
   "source": []
  }
 ],
 "metadata": {
  "kernelspec": {
   "display_name": ".venv",
   "language": "python",
   "name": "python3"
  },
  "language_info": {
   "codemirror_mode": {
    "name": "ipython",
    "version": 3
   },
   "file_extension": ".py",
   "mimetype": "text/x-python",
   "name": "python",
   "nbconvert_exporter": "python",
   "pygments_lexer": "ipython3",
   "version": "3.9.13"
  }
 },
 "nbformat": 4,
 "nbformat_minor": 2
}
