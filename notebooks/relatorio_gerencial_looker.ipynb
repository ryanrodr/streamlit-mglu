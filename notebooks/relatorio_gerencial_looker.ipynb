{
 "cells": [
  {
   "cell_type": "markdown",
   "metadata": {},
   "source": [
    "#### Conectando Python com API do Google Sheets"
   ]
  },
  {
   "cell_type": "code",
   "execution_count": 1,
   "metadata": {},
   "outputs": [],
   "source": [
    "import pandas as pd\n",
    "import gspread\n",
    "import json\n",
    "import os\n",
    "import warnings\n",
    "import unidecode\n",
    "from dotenv import load_dotenv\n",
    "\n",
    "warnings.filterwarnings(\"ignore\")\n",
    "\n",
    "# Carrega as variáveis de ambiente do arquivo .env\n",
    "load_dotenv()\n",
    "key_json = os.getenv('KEY_JSON')\n",
    "\n",
    "# Converte a string JSON em um dicionário Python\n",
    "google_client = gspread.service_account_from_dict(json.loads(key_json))\n",
    "\n",
    "# Identificador único da planilha do Google Sheets\n",
    "SHEET_ID = '1tbJh_GQol0Ax5uB-AjwI26yW9piCIp0peuKV1N5nMeQ'\n",
    "\n",
    "# Abre a planilha do Google Sheets usando o código único da planilha\n",
    "spreadsheet = google_client.open_by_key(SHEET_ID)\n",
    "\n",
    "# Seleciona a aba chamada 'Dados' dentro da planilha\n",
    "worksheet = spreadsheet.worksheet('db')\n",
    "\n",
    "# Obtém todos os valores da worksheet (retorna uma lista de listas)\n",
    "dados = worksheet.get_all_values()\n",
    "\n",
    "# A primeira linha é usada como o cabeçalho (nomes das colunas)\n",
    "df = pd.DataFrame(dados[1:], columns=dados[0])"
   ]
  },
  {
   "cell_type": "markdown",
   "metadata": {},
   "source": [
    "#### Limpeza e Preparação dos dados"
   ]
  },
  {
   "cell_type": "code",
   "execution_count": 2,
   "metadata": {},
   "outputs": [],
   "source": [
    "# Padronizando o nome das colunas\n",
    "df.rename(columns=str.lower, inplace=True)\n",
    "df.columns = df.columns.str.replace(' ', '_')\n",
    "\n",
    "# Removendo os acentos das colunas\n",
    "df.columns = [unidecode.unidecode(col) for col in df.columns]"
   ]
  },
  {
   "cell_type": "code",
   "execution_count": 3,
   "metadata": {},
   "outputs": [],
   "source": [
    "# Converter colunas de data/hora para o tipo datetime\n",
    "df['chegada_cd'] = pd.to_datetime(df['chegada_cd'])\n",
    "df['inicio_do_carregamento'] = pd.to_datetime(df['inicio_do_carregamento'])\n",
    "df['fim_do_carregamento'] = pd.to_datetime(df['fim_do_carregamento'])\n",
    "df['data'] = pd.to_datetime(df['data'], format='%d/%m/%Y')\n",
    "\n",
    "# Lista de colunas que precisam ser convertidas para timedelta\n",
    "timedelta_columns = [\n",
    "    'tempo_de_espera', \n",
    "    'tempo_de_expedicao', \n",
    "    'tempo_total', \n",
    "    'hora_chegada_cd', \n",
    "    'hora_inicio_do_carregamento', \n",
    "    'hora_fim_do_carregamento'\n",
    "]\n",
    "\n",
    "# Aplicar a conversão para timedelta usando apply\n",
    "df[timedelta_columns] = df[timedelta_columns].apply(pd.to_timedelta)\n",
    "\n",
    "# Ajustar \"quantidade_remessas\" como tipo numérico (inteiro)\n",
    "df['quantidade_remessas'] = pd.to_numeric(df['quantidade_remessas'], errors='coerce')"
   ]
  },
  {
   "cell_type": "code",
   "execution_count": 4,
   "metadata": {},
   "outputs": [
    {
     "name": "stdout",
     "output_type": "stream",
     "text": [
      "<class 'pandas.core.frame.DataFrame'>\n",
      "RangeIndex: 174 entries, 0 to 173\n",
      "Data columns (total 15 columns):\n",
      " #   Column                       Non-Null Count  Dtype          \n",
      "---  ------                       --------------  -----          \n",
      " 0   unidade                      174 non-null    object         \n",
      " 1   nome                         174 non-null    object         \n",
      " 2   placa                        174 non-null    object         \n",
      " 3   chegada_cd                   174 non-null    datetime64[ns] \n",
      " 4   inicio_do_carregamento       174 non-null    datetime64[ns] \n",
      " 5   fim_do_carregamento          174 non-null    datetime64[ns] \n",
      " 6   quantidade_remessas          174 non-null    int64          \n",
      " 7   data                         174 non-null    datetime64[ns] \n",
      " 8   tempo_de_espera              174 non-null    timedelta64[ns]\n",
      " 9   tempo_de_expedicao           174 non-null    timedelta64[ns]\n",
      " 10  tempo_total                  174 non-null    timedelta64[ns]\n",
      " 11  status_meta                  174 non-null    object         \n",
      " 12  hora_chegada_cd              174 non-null    timedelta64[ns]\n",
      " 13  hora_inicio_do_carregamento  174 non-null    timedelta64[ns]\n",
      " 14  hora_fim_do_carregamento     174 non-null    timedelta64[ns]\n",
      "dtypes: datetime64[ns](4), int64(1), object(4), timedelta64[ns](6)\n",
      "memory usage: 20.5+ KB\n"
     ]
    }
   ],
   "source": [
    "df.info()"
   ]
  },
  {
   "cell_type": "markdown",
   "metadata": {},
   "source": [
    "#### Transformando os dados com `groupby`"
   ]
  },
  {
   "cell_type": "code",
   "execution_count": 7,
   "metadata": {},
   "outputs": [],
   "source": [
    " # Tempo Médio de Expedição por Data\n",
    "tempo_medio_dia = df.groupby(['data', 'unidade']).agg(\n",
    "                    media_tempo_espera = pd.NamedAgg('tempo_de_espera', 'mean'),\n",
    "                    media_tempo_expedicao = pd.NamedAgg('tempo_de_expedicao', 'mean'),\n",
    "                    media_tempo_total = pd.NamedAgg('tempo_total', 'mean'),\n",
    "                    total_remessas = pd.NamedAgg('quantidade_remessas', 'sum'),\n",
    "                    total_motoristas = pd.NamedAgg('nome', 'count')).reset_index()\n",
    "\n",
    "def format_timedelta(td):\n",
    "    # Formata como HH:MM:SS\n",
    "    total_seconds = int(td.total_seconds())\n",
    "    hours, remainder = divmod(total_seconds, 3600)\n",
    "    minutes, seconds = divmod(remainder, 60)\n",
    "    return f\"{hours:02}:{minutes:02}:{seconds:02}\"\n",
    "\n",
    "# Aplicar a formatação das médias\n",
    "tempo_medio_dia[['media_tempo_espera',\n",
    "                 'media_tempo_expedicao',\n",
    "                 'media_tempo_total']] = tempo_medio_dia[['media_tempo_espera',\n",
    "                                                         'media_tempo_expedicao',\n",
    "                                                         'media_tempo_total']].applymap(format_timedelta)\n",
    "\n",
    "tempo_medio_dia.to_clipboard(index=False)"
   ]
  },
  {
   "cell_type": "code",
   "execution_count": null,
   "metadata": {},
   "outputs": [],
   "source": []
  }
 ],
 "metadata": {
  "kernelspec": {
   "display_name": ".venv",
   "language": "python",
   "name": "python3"
  },
  "language_info": {
   "codemirror_mode": {
    "name": "ipython",
    "version": 3
   },
   "file_extension": ".py",
   "mimetype": "text/x-python",
   "name": "python",
   "nbconvert_exporter": "python",
   "pygments_lexer": "ipython3",
   "version": "3.9.13"
  }
 },
 "nbformat": 4,
 "nbformat_minor": 2
}
