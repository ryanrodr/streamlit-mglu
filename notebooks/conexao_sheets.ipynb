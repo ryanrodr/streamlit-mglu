{
 "cells": [
  {
   "cell_type": "markdown",
   "metadata": {},
   "source": [
    "#### Conectando Python com API do Google Sheets"
   ]
  },
  {
   "cell_type": "code",
   "execution_count": null,
   "metadata": {},
   "outputs": [],
   "source": [
    "import pandas as pd\n",
    "import gspread\n",
    "import json\n",
    "import os\n",
    "from dotenv import load_dotenv\n",
    "\n",
    "# Carrega as variáveis de ambiente do arquivo .env\n",
    "load_dotenv()\n",
    "key_json = os.getenv('KEY_JSON')\n",
    "\n",
    "# Converte a string JSON em um dicionário Python\n",
    "google_client = gspread.service_account_from_dict(json.loads(key_json))\n",
    "\n",
    "# Identificador único da planilha do Google Sheets\n",
    "SHEET_ID = '1tbJh_GQol0Ax5uB-AjwI26yW9piCIp0peuKV1N5nMeQ'\n",
    "\n",
    "# Abre a planilha do Google Sheets usando o código único da planilha\n",
    "spreadsheet = google_client.open_by_key(SHEET_ID)\n",
    "\n",
    "# Seleciona a aba chamada 'Dados' dentro da planilha\n",
    "worksheet = spreadsheet.worksheet('Dados')\n",
    "\n",
    "# Obtém todos os valores da worksheet (retorna uma lista de listas)\n",
    "dados = worksheet.get_all_values()\n",
    "\n",
    "# A primeira linha é usada como o cabeçalho (nomes das colunas)\n",
    "df = pd.DataFrame(dados[1:], columns=dados[0])\n",
    "\n",
    "df"
   ]
  },
  {
   "cell_type": "code",
   "execution_count": null,
   "metadata": {},
   "outputs": [],
   "source": [
    "# Apaga os dados do intervalo especificado\n",
    "worksheet.batch_clear(['A2:G1000'])"
   ]
  },
  {
   "cell_type": "code",
   "execution_count": null,
   "metadata": {},
   "outputs": [],
   "source": []
  }
 ],
 "metadata": {
  "kernelspec": {
   "display_name": ".venv",
   "language": "python",
   "name": "python3"
  },
  "language_info": {
   "codemirror_mode": {
    "name": "ipython",
    "version": 3
   },
   "file_extension": ".py",
   "mimetype": "text/x-python",
   "name": "python",
   "nbconvert_exporter": "python",
   "pygments_lexer": "ipython3",
   "version": "3.9.13"
  }
 },
 "nbformat": 4,
 "nbformat_minor": 2
}
