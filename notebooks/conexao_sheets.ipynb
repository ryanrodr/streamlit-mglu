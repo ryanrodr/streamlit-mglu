{
 "cells": [
  {
   "cell_type": "markdown",
   "metadata": {},
   "source": [
    "#### Conectando Python com API do Google Sheets"
   ]
  },
  {
   "cell_type": "code",
   "execution_count": null,
   "metadata": {},
   "outputs": [],
   "source": [
    "import pandas as pd\n",
    "import gspread\n",
    "import json\n",
    "import os\n",
    "from dotenv import load_dotenv\n",
    "\n",
    "# Carrega as variáveis de ambiente do arquivo .env\n",
    "load_dotenv()\n",
    "\n",
    "# Carrega o caminho do arquivo JSON a partir do .env\n",
    "key_json_path = os.getenv('KEY_JSON_PATH')\n",
    "\n",
    "# Verifica se o caminho foi carregado corretamente e se o arquivo existe\n",
    "if not key_json_path or not os.path.exists(key_json_path):\n",
    "    raise ValueError(\"O arquivo key.json não foi encontrado. Verifique o caminho em .env.\")\n",
    "\n",
    "# Carrega o arquivo JSON como um dicionário Python\n",
    "with open(key_json_path, 'r') as f:\n",
    "    key_json = json.load(f)  # Isso deve carregar o JSON como dicionário, não como string\n",
    "\n",
    "# Passa o dicionário para o método gspread\n",
    "google_client = gspread.service_account_from_dict(key_json)\n",
    "\n",
    "# Identificador único da planilha do Google Sheets\n",
    "SHEET_ID = '1tbJh_GQol0Ax5uB-AjwI26yW9piCIp0peuKV1N5nMeQ'\n",
    "\n",
    "# Abre a planilha do Google Sheets usando o código único da planilha\n",
    "spreadsheet = google_client.open_by_key(SHEET_ID)\n",
    "\n",
    "# Seleciona a aba chamada 'db' dentro da planilha\n",
    "worksheet = spreadsheet.worksheet('db')\n",
    "\n",
    "# Obtém todos os valores da worksheet (retorna uma lista de listas)\n",
    "dados = worksheet.get_all_values()\n",
    "\n",
    "# A primeira linha é usada como o cabeçalho (nomes das colunas)\n",
    "df = pd.DataFrame(dados[1:], columns=dados[0])\n",
    "\n",
    "df"
   ]
  },
  {
   "cell_type": "code",
   "execution_count": null,
   "metadata": {},
   "outputs": [],
   "source": []
  }
 ],
 "metadata": {
  "kernelspec": {
   "display_name": ".venv",
   "language": "python",
   "name": "python3"
  },
  "language_info": {
   "codemirror_mode": {
    "name": "ipython",
    "version": 3
   },
   "file_extension": ".py",
   "mimetype": "text/x-python",
   "name": "python",
   "nbconvert_exporter": "python",
   "pygments_lexer": "ipython3",
   "version": "3.12.3"
  }
 },
 "nbformat": 4,
 "nbformat_minor": 2
}
