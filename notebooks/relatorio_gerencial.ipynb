{
 "cells": [
  {
   "cell_type": "markdown",
   "metadata": {},
   "source": [
    "#### Conectando Python com API do Google Sheets"
   ]
  },
  {
   "cell_type": "code",
   "execution_count": null,
   "metadata": {},
   "outputs": [],
   "source": [
    "import pandas as pd\n",
    "import gspread\n",
    "import json\n",
    "import os\n",
    "import unidecode\n",
    "import warnings\n",
    "\n",
    "warnings.filterwarnings(\"ignore\")\n",
    "from dotenv import load_dotenv\n",
    "\n",
    "def connect_sheets(sheet_id, sheet_name):\n",
    "    \"\"\"\n",
    "    Realiza a conexão com a API do google sheets,\n",
    "    Verifica se existem dados nos parâmetros informados\n",
    "    \"\"\"\n",
    "    # Carrega as variáveis de ambiente\n",
    "    load_dotenv()\n",
    "    key_json = os.getenv('KEY_JSON')\n",
    "\n",
    "    # Verifica se a chave JSON foi encontrada\n",
    "    if not key_json:\n",
    "        raise ValueError(\"Chave JSON não encontrada.\")\n",
    "\n",
    "    # Conexão com o Google Sheets\n",
    "    google_client = gspread.service_account_from_dict(json.loads(key_json))\n",
    "    worksheet = google_client.open_by_key(sheet_id).worksheet(sheet_name)\n",
    "\n",
    "    # Obtenção dos dados e conversão para DataFrame\n",
    "    dados = worksheet.get_all_values()\n",
    "    if not dados:\n",
    "        raise ValueError(\"A planilha está vazia.\")\n",
    "\n",
    "    return pd.DataFrame(dados[1:], columns=dados[0])\n",
    "\n",
    "df = connect_sheets('1tbJh_GQol0Ax5uB-AjwI26yW9piCIp0peuKV1N5nMeQ', 'db')"
   ]
  },
  {
   "cell_type": "code",
   "execution_count": null,
   "metadata": {},
   "outputs": [],
   "source": [
    "df.head()"
   ]
  },
  {
   "cell_type": "markdown",
   "metadata": {},
   "source": [
    "#### Limpeza e Preparação dos dados"
   ]
  },
  {
   "cell_type": "code",
   "execution_count": null,
   "metadata": {},
   "outputs": [],
   "source": [
    "# Padronizando o nome das colunas\n",
    "df.rename(columns=str.lower, inplace=True)\n",
    "df.columns = df.columns.str.replace(' ', '_')\n",
    "\n",
    "# Removendo os acentos das colunas\n",
    "df.columns = [unidecode.unidecode(col) for col in df.columns]\n",
    "\n",
    "df.columns"
   ]
  },
  {
   "cell_type": "code",
   "execution_count": null,
   "metadata": {},
   "outputs": [],
   "source": [
    "# Converter colunas de data/hora para o tipo datetime\n",
    "df['chegada_cd'] = pd.to_datetime(df['chegada_cd'])\n",
    "df['inicio_do_carregamento'] = pd.to_datetime(df['inicio_do_carregamento'])\n",
    "df['fim_do_carregamento'] = pd.to_datetime(df['fim_do_carregamento'])\n",
    "df['data'] = pd.to_datetime(df['data'], format='%d/%m/%Y')\n",
    "\n",
    "# Lista de colunas que precisam ser convertidas para timedelta\n",
    "timedelta_columns = [\n",
    "    'tempo_de_espera', \n",
    "    'tempo_de_expedicao', \n",
    "    'tempo_total', \n",
    "    'hora_chegada_cd', \n",
    "    'hora_inicio_do_carregamento', \n",
    "    'hora_fim_do_carregamento'\n",
    "]\n",
    "\n",
    "# Aplicar a conversão para timedelta usando apply\n",
    "df[timedelta_columns] = df[timedelta_columns].apply(pd.to_timedelta)\n",
    "\n",
    "# Ajustar \"quantidade_remessas\" como tipo numérico (inteiro)\n",
    "df['quantidade_remessas'] = pd.to_numeric(df['quantidade_remessas'], errors='coerce')\n",
    "\n",
    "# Convertendo o tipo de dado para categorico\n",
    "df[['unidade', 'status_meta']] = df[['unidade', 'status_meta']].astype('category')"
   ]
  },
  {
   "cell_type": "code",
   "execution_count": null,
   "metadata": {},
   "outputs": [],
   "source": [
    "df.info()"
   ]
  },
  {
   "cell_type": "code",
   "execution_count": null,
   "metadata": {},
   "outputs": [],
   "source": [
    "df.isna().sum()"
   ]
  },
  {
   "cell_type": "markdown",
   "metadata": {},
   "source": [
    "#### Transformando os dados com `groupby`"
   ]
  },
  {
   "cell_type": "code",
   "execution_count": null,
   "metadata": {},
   "outputs": [],
   "source": [
    " # Tempo Médio de Expedição por Data\n",
    "tempo_medio_dia = df.groupby(['data', 'unidade']).agg(\n",
    "                    media_tempo_espera = pd.NamedAgg('tempo_de_espera', 'mean'),\n",
    "                    media_tempo_expedicao = pd.NamedAgg('tempo_de_expedicao', 'mean'),\n",
    "                    media_tempo_total = pd.NamedAgg('tempo_total', 'mean'),\n",
    "                    total_remessas = pd.NamedAgg('quantidade_remessas', 'sum'),\n",
    "                    total_motoristas = pd.NamedAgg('nome', 'count')).reset_index()\n",
    "\n",
    "def format_timedelta(td):\n",
    "    # Verifica se o valor é NaN\n",
    "    if pd.isnull(td):\n",
    "        return \"00:00:00\"\n",
    "    \n",
    "    # Caso contrário, realiza a conversão normalmente\n",
    "    total_seconds = int(td.total_seconds())\n",
    "    hours, remainder = divmod(total_seconds, 3600)\n",
    "    minutes, seconds = divmod(remainder, 60)\n",
    "    return f\"{hours:02}:{minutes:02}:{seconds:02}\"\n",
    "\n",
    "# Aplicar a formatação das médias\n",
    "tempo_medio_dia[['media_tempo_espera',\n",
    "                 'media_tempo_expedicao',\n",
    "                 'media_tempo_total']] = tempo_medio_dia[['media_tempo_espera',\n",
    "                                                         'media_tempo_expedicao',\n",
    "                                                         'media_tempo_total']].applymap(format_timedelta)\n",
    "\n",
    "tempo_medio_dia = tempo_medio_dia[tempo_medio_dia['total_remessas'] > 0]"
   ]
  },
  {
   "cell_type": "code",
   "execution_count": null,
   "metadata": {},
   "outputs": [],
   "source": [
    "tempo_medio_dia.to_clipboard(index=False)"
   ]
  },
  {
   "cell_type": "code",
   "execution_count": null,
   "metadata": {},
   "outputs": [],
   "source": []
  }
 ],
 "metadata": {
  "kernelspec": {
   "display_name": ".venv",
   "language": "python",
   "name": "python3"
  },
  "language_info": {
   "codemirror_mode": {
    "name": "ipython",
    "version": 3
   },
   "file_extension": ".py",
   "mimetype": "text/x-python",
   "name": "python",
   "nbconvert_exporter": "python",
   "pygments_lexer": "ipython3",
   "version": "3.9.13"
  }
 },
 "nbformat": 4,
 "nbformat_minor": 2
}
