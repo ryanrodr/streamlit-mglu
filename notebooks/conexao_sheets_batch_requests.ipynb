{
 "cells": [
  {
   "cell_type": "code",
   "execution_count": 16,
   "metadata": {},
   "outputs": [],
   "source": [
    "import pandas as pd\n",
    "import json\n",
    "import gspread\n",
    "import os\n",
    "from dotenv import load_dotenv\n",
    "\n",
    "# Carrega variáveis de ambiente com load_dotenv\n",
    "load_dotenv()\n",
    "KEY_JSON = os.getenv('KEY_JSON')\n",
    "\n",
    "# Autenticação com Google Sheets e configuração de acesso a planilha\n",
    "google_client = gspread.service_account_from_dict(json.loads(KEY_JSON))\n",
    "SHEET_ID = '1tbJh_GQol0Ax5uB-AjwI26yW9piCIp0peuKV1N5nMeQ'\n",
    "worksheet = google_client.open_by_key(SHEET_ID).worksheet('db')\n",
    "\n",
    "# Carregar dados com pandas.clipboard()\n",
    "df_registros = pd.read_clipboard()"
   ]
  },
  {
   "cell_type": "code",
   "execution_count": 17,
   "metadata": {},
   "outputs": [
    {
     "name": "stdout",
     "output_type": "stream",
     "text": [
      "41 registros enviados para o Google Sheets com sucesso!\n"
     ]
    }
   ],
   "source": [
    "# Função para enviar dados em batch\n",
    "def enviar_dados_em_batch(dados):\n",
    "    batch_requests = []\n",
    "\n",
    "    for index, registro in dados.iterrows():\n",
    "        # Verifica se todos os campos estão preenchidos e se \"Quantidade Remessas\" é maior que 0\n",
    "        if all(pd.notna(registro[1:])) and registro['Quantidade Remessas'] > 0:\n",
    "            # Adicionar a linha ao batch request\n",
    "            linha_dados = [\n",
    "                registro['Unidade'], \n",
    "                registro['Motorista'], \n",
    "                registro['Placa'], \n",
    "                registro['Chegada CD'], \n",
    "                registro['Início do Carregamento'], \n",
    "                registro['Fim do Carregamento'], \n",
    "                registro['Quantidade Remessas']\n",
    "            ]\n",
    "            batch_requests.append(linha_dados)\n",
    "\n",
    "    # Enviar os dados em lote\n",
    "    if batch_requests:\n",
    "        worksheet.append_rows(batch_requests)\n",
    "        print(f\"{len(batch_requests)} registros enviados para o Google Sheets com sucesso!\")\n",
    "    else:\n",
    "        print(\"Nenhum dado válido para enviar.\")\n",
    "\n",
    "# Testar o envio em batch requests\n",
    "if not df_registros.empty:\n",
    "    enviar_dados_em_batch(df_registros)\n",
    "else:\n",
    "    print(\"Nenhum dado encontrado para enviar.\")"
   ]
  },
  {
   "cell_type": "code",
   "execution_count": 18,
   "metadata": {},
   "outputs": [
    {
     "data": {
      "text/plain": [
       "{'spreadsheetId': '1tbJh_GQol0Ax5uB-AjwI26yW9piCIp0peuKV1N5nMeQ',\n",
       " 'clearedRanges': ['db!A2:G10000']}"
      ]
     },
     "execution_count": 18,
     "metadata": {},
     "output_type": "execute_result"
    }
   ],
   "source": [
    "# Apaga os dados do intervalo especificado\n",
    "worksheet.batch_clear(['A2:G10000'])"
   ]
  }
 ],
 "metadata": {
  "kernelspec": {
   "display_name": ".venv",
   "language": "python",
   "name": "python3"
  },
  "language_info": {
   "codemirror_mode": {
    "name": "ipython",
    "version": 3
   },
   "file_extension": ".py",
   "mimetype": "text/x-python",
   "name": "python",
   "nbconvert_exporter": "python",
   "pygments_lexer": "ipython3",
   "version": "3.9.13"
  }
 },
 "nbformat": 4,
 "nbformat_minor": 2
}
