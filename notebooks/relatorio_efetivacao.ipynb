{
 "cells": [
  {
   "cell_type": "code",
   "execution_count": null,
   "metadata": {},
   "outputs": [],
   "source": [
    "import pandas as pd\n",
    "import os\n",
    "\n",
    "dados = r'../dados'\n",
    "dataframes = []\n",
    "\n",
    "# Identifica os arquivos no diretório \n",
    "arquivos = [f for f in os.listdir(dados) if f.endswith('csv')]\n",
    "\n",
    "# Percorrendo cada arquivo do diretório\n",
    "for arquivo in arquivos:\n",
    "    caminho_arquivo = os.path.join(dados, arquivo)\n",
    "    df = pd.read_csv(caminho_arquivo, sep=',', index_col=0)\n",
    "    dataframes.append(df)\n",
    "\n",
    "df_unificado = pd.concat(dataframes, ignore_index=True)"
   ]
  },
  {
   "cell_type": "code",
   "execution_count": 2,
   "metadata": {},
   "outputs": [],
   "source": [
    "# Converte as colunas para datetime, mantendo os valores ausentes como NaT\n",
    "colunas_data = ['Chegada CD', 'Início do Carregamento', 'Fim do Carregamento']\n",
    "df_unificado[colunas_data] = df_unificado[colunas_data].apply(pd.to_datetime, errors='coerce')\n",
    "\n",
    "# Extrai a data da coluna 'Chegada CD'\n",
    "df_unificado['Data'] = df_unificado['Chegada CD'].dt.date\n",
    "\n",
    "# Cria uma coluna de validação para os registros completos\n",
    "df_unificado['Status'] = df_unificado['Quantidade Remessas'] > 0"
   ]
  },
  {
   "cell_type": "code",
   "execution_count": null,
   "metadata": {},
   "outputs": [],
   "source": [
    "df_unificado.head(3)"
   ]
  },
  {
   "cell_type": "code",
   "execution_count": 4,
   "metadata": {},
   "outputs": [],
   "source": [
    "tb_acompanhamento = df_unificado.groupby(['Data', 'Unidade']).agg(\n",
    "                            total_registros = pd.NamedAgg(column='Status', aggfunc='count'),\n",
    "                            total_valido = pd.NamedAgg(column='Status', aggfunc='sum'))\n",
    "\n",
    "tb_acompanhamento = tb_acompanhamento.rename(columns={'total_registros': 'Total de Registros',\n",
    "                                                      'total_valido': 'Registros Válidos (QTD)'})\\\n",
    "                                     .reset_index()\n",
    "\n",
    "tb_acompanhamento['Registros Válidos (%)'] = tb_acompanhamento['Registros Válidos (QTD)'] / tb_acompanhamento['Total de Registros'] * 100"
   ]
  },
  {
   "cell_type": "code",
   "execution_count": null,
   "metadata": {},
   "outputs": [],
   "source": [
    "tb_acompanhamento"
   ]
  },
  {
   "cell_type": "code",
   "execution_count": 6,
   "metadata": {},
   "outputs": [],
   "source": [
    "tb_acompanhamento.round().to_clipboard(index=False)"
   ]
  },
  {
   "cell_type": "code",
   "execution_count": null,
   "metadata": {},
   "outputs": [],
   "source": []
  }
 ],
 "metadata": {
  "kernelspec": {
   "display_name": ".venv",
   "language": "python",
   "name": "python3"
  },
  "language_info": {
   "codemirror_mode": {
    "name": "ipython",
    "version": 3
   },
   "file_extension": ".py",
   "mimetype": "text/x-python",
   "name": "python",
   "nbconvert_exporter": "python",
   "pygments_lexer": "ipython3",
   "version": "3.9.13"
  }
 },
 "nbformat": 4,
 "nbformat_minor": 2
}
